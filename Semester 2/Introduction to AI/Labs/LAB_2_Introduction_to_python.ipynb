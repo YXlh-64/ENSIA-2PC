{
 "cells": [
  {
   "cell_type": "markdown",
   "metadata": {},
   "source": [
    "# Sequences types"
   ]
  },
  {
   "cell_type": "raw",
   "metadata": {},
   "source": [
    "List : A list can be modified and resized."
   ]
  },
  {
   "cell_type": "code",
   "execution_count": 65,
   "metadata": {},
   "outputs": [
    {
     "data": {
      "text/plain": [
       "(['one', 'two', 'three'], ['1', '2', '3', '4', '5', '6', '7'], [0, 1, 2, 3])"
      ]
     },
     "execution_count": 65,
     "metadata": {},
     "output_type": "execute_result"
    }
   ],
   "source": [
    "#Thee ways to create a list:\n",
    "l1 = [\"one\",\"two\",\"three\"]\n",
    "\n",
    "l2 = list(\"1234567\")#use the constructor to cast an \"iterable\" object into a list \n",
    "\n",
    "l3 = [i for i in range(4)]#print i for i varying in range of 0 to 4\n",
    "l1, l2, l3"
   ]
  },
  {
   "cell_type": "code",
   "execution_count": 66,
   "metadata": {},
   "outputs": [
    {
     "data": {
      "text/plain": [
       "[1, 'abc', [3, 4, 5], 6.7]"
      ]
     },
     "execution_count": 66,
     "metadata": {},
     "output_type": "execute_result"
    }
   ],
   "source": [
    "#multiple types & element as list\n",
    "l4 = [1, \"abc\", [3, 4, 5], 6.7]\n",
    "l4"
   ]
  },
  {
   "cell_type": "code",
   "execution_count": 67,
   "metadata": {},
   "outputs": [
    {
     "data": {
      "text/plain": [
       "('one', 'three', 'two')"
      ]
     },
     "execution_count": 67,
     "metadata": {},
     "output_type": "execute_result"
    }
   ],
   "source": [
    "#Accessing a list (first element, Last element or first element from the end, second element from the end)\n",
    "l1[0], l1[-1], l1[-2]"
   ]
  },
  {
   "cell_type": "code",
   "execution_count": 68,
   "metadata": {},
   "outputs": [
    {
     "name": "stdout",
     "output_type": "stream",
     "text": [
      "['1', '2', '3', '4', '5', '6', '7'] ['2', '3', '4']\n",
      "['1', '2', '3', '4', '5', '6', '7'] ['1', '3', '5']\n"
     ]
    }
   ],
   "source": [
    "#Slicing\n",
    "print(l2, l2[1:4])# get the elements starting from the second element to the forth (not included)\n",
    "print(l2, l2[:6:2])# get the elements starting from the first element to the sixth (not included) with 2 steps"
   ]
  },
  {
   "cell_type": "code",
   "execution_count": 69,
   "metadata": {},
   "outputs": [
    {
     "name": "stdout",
     "output_type": "stream",
     "text": [
      "['1', '2', '3', '4']\n",
      "['7', '6', '5', '4', '3', '2', '1']\n"
     ]
    }
   ],
   "source": [
    "#good idom\n",
    "print(l2[:-3])#result ?? create a new list that includes all elements of the list l2 except for the last three elements.\n",
    "print(l2[::-1])#result ?? to create a new list that is a reversed version of the original list l2"
   ]
  },
  {
   "cell_type": "markdown",
   "metadata": {},
   "source": [
    "append(): Adds an element to the end of the list."
   ]
  },
  {
   "cell_type": "code",
   "execution_count": 70,
   "metadata": {},
   "outputs": [
    {
     "name": "stdout",
     "output_type": "stream",
     "text": [
      "['one', 'two', 'three', 9]\n"
     ]
    }
   ],
   "source": [
    "#modifying lists\n",
    "l1.append(9) #adding 9 to l1\n",
    "print(l1)"
   ]
  },
  {
   "cell_type": "markdown",
   "metadata": {},
   "source": [
    "insert(): Inserts an element at a specified index."
   ]
  },
  {
   "cell_type": "code",
   "execution_count": 71,
   "metadata": {},
   "outputs": [
    {
     "name": "stdout",
     "output_type": "stream",
     "text": [
      "[1, 5, 2, 3]\n"
     ]
    }
   ],
   "source": [
    "my_list = [1, 2, 3]\n",
    "my_list.insert(1, 5)\n",
    "print(my_list)  # Output: [1, 5, 2, 3]"
   ]
  },
  {
   "cell_type": "markdown",
   "metadata": {},
   "source": [
    "extend(): Appends elements from an iterable to the end of the list."
   ]
  },
  {
   "cell_type": "code",
   "execution_count": 72,
   "metadata": {},
   "outputs": [
    {
     "data": {
      "text/plain": [
       "['one', 'two', 'three', 9, '1', '2', '3', '4', '5', '6', '7']"
      ]
     },
     "execution_count": 72,
     "metadata": {},
     "output_type": "execute_result"
    }
   ],
   "source": [
    "l1.extend(l2)\n",
    "l1"
   ]
  },
  {
   "cell_type": "code",
   "execution_count": 73,
   "metadata": {},
   "outputs": [
    {
     "data": {
      "text/plain": [
       "['1', '2', '3', '4', '5', '6', '7', [1, 'abc', [3, 4, 5], 6.7]]"
      ]
     },
     "execution_count": 73,
     "metadata": {},
     "output_type": "execute_result"
    }
   ],
   "source": [
    "l2.append(l4)# result ???\n",
    "l2"
   ]
  },
  {
   "cell_type": "markdown",
   "metadata": {},
   "source": [
    "pop(): Removes and returns the element at a specified index."
   ]
  },
  {
   "cell_type": "code",
   "execution_count": 74,
   "metadata": {},
   "outputs": [
    {
     "data": {
      "text/plain": [
       "'7'"
      ]
     },
     "execution_count": 74,
     "metadata": {},
     "output_type": "execute_result"
    }
   ],
   "source": [
    "del l1[4]#remove an element\n",
    "l1.pop()#remove the last element"
   ]
  },
  {
   "cell_type": "markdown",
   "metadata": {},
   "source": [
    "remove(): Removes the first occurrence of a specified element.\n"
   ]
  },
  {
   "cell_type": "code",
   "execution_count": 75,
   "metadata": {},
   "outputs": [
    {
     "name": "stdout",
     "output_type": "stream",
     "text": [
      "[1, 3, 2]\n"
     ]
    }
   ],
   "source": [
    "my_list = [1, 2, 3, 2]\n",
    "my_list.remove(2)\n",
    "print(my_list)  # Output: [1, 3, 2]\n"
   ]
  },
  {
   "cell_type": "markdown",
   "metadata": {},
   "source": [
    "Other mehtods to explore (insert, reverse, index, count,....)"
   ]
  },
  {
   "cell_type": "code",
   "execution_count": 76,
   "metadata": {},
   "outputs": [
    {
     "name": "stdout",
     "output_type": "stream",
     "text": [
      "[3, 2, 1]\n",
      "1\n",
      "2\n"
     ]
    }
   ],
   "source": [
    "my_list = [1, 2, 3]\n",
    "my_list.reverse()\n",
    "print(my_list)  # Output: [3, 2, 1]\n",
    "my_list = [1, 2, 3, 2]\n",
    "index = my_list.index(2)\n",
    "print(index)  # Output: 1\n",
    "\n",
    "my_list = [1, 2, 3, 2]\n",
    "count = my_list.count(2)\n",
    "print(count)  # Output: 2"
   ]
  },
  {
   "cell_type": "code",
   "execution_count": 77,
   "metadata": {},
   "outputs": [
    {
     "name": "stdout",
     "output_type": "stream",
     "text": [
      "True\n",
      "False\n",
      "['one', 'two', 'three', 9, '2', '3', '4', '5', '6', '1', '2', '3', '4', '5', '6', '7', [1, 'abc', [3, 4, 5], 6.7]]\n",
      "['1', '2', '3', '4', '5', '6', '7', [1, 'abc', [3, 4, 5], 6.7], '1', '2', '3', '4', '5', '6', '7', [1, 'abc', [3, 4, 5], 6.7]]\n"
     ]
    }
   ],
   "source": [
    "#Some Operations\n",
    "print(\"one\" in l1)#check membership\n",
    "print(\"one\" not in l1)#check non membership\n",
    "print(l1 + l2 ) #concatenate\n",
    "print(l2 * 2)#the list l2 will be repeated twice"
   ]
  },
  {
   "cell_type": "markdown",
   "metadata": {},
   "source": [
    "### Tuples"
   ]
  },
  {
   "cell_type": "markdown",
   "metadata": {},
   "source": [
    " The most significant difference between a list and a tuple is that a tuple is immutable. Once a tuple is created, you cannot modify its elements (add, remove, or change) or its size."
   ]
  },
  {
   "cell_type": "code",
   "execution_count": 78,
   "metadata": {},
   "outputs": [
    {
     "name": "stdout",
     "output_type": "stream",
     "text": [
      "() (1, 2, 3, 'hello') ('one', 'two', 'three', 9, '2', '3', '4', '5', '6')\n"
     ]
    }
   ],
   "source": [
    "#Syntax: Tuples are defined using parentheses ().\n",
    "empty_tuple = ()\n",
    "tupleWithData = (1, 2, 3, 'hello')\n",
    "my_vector = tuple(l1)#casting l1 list\n",
    "print(empty_tuple,tupleWithData, my_vector)"
   ]
  },
  {
   "cell_type": "code",
   "execution_count": 79,
   "metadata": {},
   "outputs": [
    {
     "data": {
      "text/plain": [
       "(1,)"
      ]
     },
     "execution_count": 79,
     "metadata": {},
     "output_type": "execute_result"
    }
   ],
   "source": [
    "#if you want to create a one element tuple \n",
    "singleton = (1,)#otherwise an int would be create\n",
    "singleton"
   ]
  },
  {
   "cell_type": "markdown",
   "metadata": {},
   "source": [
    "#### Accessing Elements: Elements in a tuple are accessed using indexing, just like lists."
   ]
  },
  {
   "cell_type": "code",
   "execution_count": 80,
   "metadata": {},
   "outputs": [
    {
     "name": "stdout",
     "output_type": "stream",
     "text": [
      "1\n"
     ]
    }
   ],
   "source": [
    "print(tupleWithData[0])  # Output: 1\n"
   ]
  },
  {
   "cell_type": "markdown",
   "metadata": {},
   "source": [
    "#### Slicing: You can use slicing to create sub-tuples."
   ]
  },
  {
   "cell_type": "code",
   "execution_count": 81,
   "metadata": {},
   "outputs": [
    {
     "name": "stdout",
     "output_type": "stream",
     "text": [
      "(2, 3)\n"
     ]
    }
   ],
   "source": [
    "sub_tuple = tupleWithData[1:3]\n",
    "print(sub_tuple)  # Output: (2, 3)\n"
   ]
  },
  {
   "cell_type": "code",
   "execution_count": 82,
   "metadata": {},
   "outputs": [
    {
     "ename": "TypeError",
     "evalue": "'tuple' object does not support item assignment",
     "output_type": "error",
     "traceback": [
      "\u001b[0;31m---------------------------------------------------------------------------\u001b[0m",
      "\u001b[0;31mTypeError\u001b[0m                                 Traceback (most recent call last)",
      "Cell \u001b[0;32mIn[82], line 3\u001b[0m\n\u001b[1;32m      1\u001b[0m \u001b[38;5;66;03m# Is it doable\u001b[39;00m\n\u001b[1;32m      2\u001b[0m my_vector\n\u001b[0;32m----> 3\u001b[0m my_vector[\u001b[38;5;241m1\u001b[39m] \u001b[38;5;241m=\u001b[39m \u001b[38;5;241m6\u001b[39m      \n\u001b[1;32m      4\u001b[0m my_vector\u001b[38;5;241m.\u001b[39mappend(\u001b[38;5;241m6\u001b[39m)\n",
      "\u001b[0;31mTypeError\u001b[0m: 'tuple' object does not support item assignment"
     ]
    }
   ],
   "source": [
    "\n",
    "# Is it doable\n",
    "my_vector\n",
    "my_vector[1] = 6      \n",
    "my_vector.append(6)"
   ]
  },
  {
   "cell_type": "markdown",
   "metadata": {},
   "source": [
    "#### Length: You can find the length of a tuple using the len() function.\n",
    "\n"
   ]
  },
  {
   "cell_type": "code",
   "execution_count": null,
   "metadata": {},
   "outputs": [],
   "source": [
    "print(len(tupleWithData))  # Output: 4\n"
   ]
  },
  {
   "cell_type": "markdown",
   "metadata": {},
   "source": [
    "#### Concatenation: You can concatenate tuples using the + operator.\n",
    "\n"
   ]
  },
  {
   "cell_type": "code",
   "execution_count": null,
   "metadata": {},
   "outputs": [],
   "source": [
    "tuple1 = (1, 2, 3)\n",
    "tuple2 = ('a', 'b', 'c')\n",
    "concatenated_tuple = tuple1 + tuple2\n",
    "print(concatenated_tuple)  # Output: (1, 2, 3, 'a', 'b', 'c')\n"
   ]
  },
  {
   "cell_type": "markdown",
   "metadata": {},
   "source": [
    "#### Repetition: You can create a new tuple by repeating an existing tuple using the * operator."
   ]
  },
  {
   "cell_type": "code",
   "execution_count": null,
   "metadata": {},
   "outputs": [],
   "source": [
    "repeated_tuple = tupleWithData * 2\n",
    "print(repeated_tuple)\n"
   ]
  },
  {
   "cell_type": "code",
   "execution_count": 1,
   "metadata": {},
   "outputs": [
    {
     "name": "stdout",
     "output_type": "stream",
     "text": [
      "The laptop's student\n",
      "The laptop's student\n"
     ]
    }
   ],
   "source": [
    "Course='Introduction to AI'\n",
    "print(\"The laptop's student\")\n",
    "print('The laptop\\'s student')\n",
    "      \n"
   ]
  },
  {
   "cell_type": "markdown",
   "metadata": {},
   "source": [
    "#### Nesting: Tuples can be nested within each other.\n",
    "\n"
   ]
  },
  {
   "cell_type": "code",
   "execution_count": null,
   "metadata": {},
   "outputs": [],
   "source": [
    "nested_tuple = (1, (2, 3), 'hello')\n",
    "nested_tuple"
   ]
  },
  {
   "cell_type": "markdown",
   "metadata": {},
   "source": [
    "### Strings are just another sequence type"
   ]
  },
  {
   "cell_type": "code",
   "execution_count": 121,
   "metadata": {},
   "outputs": [
    {
     "name": "stdout",
     "output_type": "stream",
     "text": [
      "18\n",
      "t\n",
      "I\n",
      "Introd\n",
      "o AI\n",
      "Itout\n",
      "IA ot noitcudortnI\n"
     ]
    }
   ],
   "source": [
    "course = \"Introduction to AI\" \n",
    "print(len(course))\n",
    "print(course[2])\n",
    "print(course[-1])\n",
    "print(course[0:6])\n",
    "print(course[-4:])\n",
    "print(course[0:10:2])\n",
    "print(course[::-1])"
   ]
  },
  {
   "cell_type": "code",
   "execution_count": 122,
   "metadata": {},
   "outputs": [
    {
     "name": "stdout",
     "output_type": "stream",
     "text": [
      "r\n"
     ]
    },
    {
     "ename": "TypeError",
     "evalue": "'str' object does not support item assignment",
     "output_type": "error",
     "traceback": [
      "\u001b[0;31m---------------------------------------------------------------------------\u001b[0m",
      "\u001b[0;31mTypeError\u001b[0m                                 Traceback (most recent call last)",
      "Cell \u001b[0;32mIn[122], line 3\u001b[0m\n\u001b[1;32m      1\u001b[0m \u001b[38;5;66;03m#Strings are immutable\u001b[39;00m\n\u001b[1;32m      2\u001b[0m \u001b[38;5;28mprint\u001b[39m(course[\u001b[38;5;241m3\u001b[39m])\n\u001b[0;32m----> 3\u001b[0m course[\u001b[38;5;241m3\u001b[39m] \u001b[38;5;241m=\u001b[39m \u001b[38;5;124m'\u001b[39m\u001b[38;5;124mp\u001b[39m\u001b[38;5;124m'\u001b[39m\n",
      "\u001b[0;31mTypeError\u001b[0m: 'str' object does not support item assignment"
     ]
    }
   ],
   "source": [
    "#Strings are immutable\n",
    "print(course[3])\n",
    "course[3] = 'p'"
   ]
  },
  {
   "cell_type": "code",
   "execution_count": 123,
   "metadata": {},
   "outputs": [
    {
     "name": "stdout",
     "output_type": "stream",
     "text": [
      "the student's laptop\n",
      "the student's laptop\n"
     ]
    }
   ],
   "source": [
    "#Escape carachters\n",
    "print('the student\\'s laptop')\n",
    "#or \n",
    "print(\"the student's laptop\")"
   ]
  },
  {
   "cell_type": "raw",
   "metadata": {},
   "source": [
    "Other string methods to explore later: \n",
    "\n",
    "\n",
    "Sure, let's go through each of these string methods:\n",
    "\n",
    "split(): This method is used to split a string into a list of substrings based on a specified delimiter. If no delimiter is specified, it splits the string by whitespace.\n",
    "\n",
    "join(): This method is used to join the elements of an iterable (such as a list) into a single string, using the calling string as a separator.\n",
    "\n",
    "strip(): this method removes leading and trailing whitespace (spaces, tabs, and newline characters) from a string.\n",
    "\n",
    "startswith() and endswith(): These methods check whether a string starts or ends with a specified substring and return a boolean value.\n",
    "\n",
    "\n",
    "replace(): This method is used to replace occurrences of a specified substring with another substring in a string.\n",
    "\n",
    "\n",
    "upper() and lower(): These methods return new strings with all the characters converted to uppercase or lowercase, respectively.\n",
    "\n",
    "capitalize()  and title(): These methods capitalize the first character of a string. capitalize() capitalizes only the first character, while title() capitalizes the first character of each word in a string.\n",
    "\n",
    "  \n",
    "These methods are powerful tools for manipulating and working with strings in Python."
   ]
  },
  {
   "cell_type": "markdown",
   "metadata": {},
   "source": [
    "### Sets and Dictionnaries"
   ]
  },
  {
   "cell_type": "markdown",
   "metadata": {},
   "source": [
    "A set does not allow duplicate elements, No ordering, cannot be accesssed(it is an unordered collection of unique elements)\n",
    "It is useful for cases where you need for elements to be unique\n",
    "Ex: Check for elements membership (very fast compared to othe sequences)"
   ]
  },
  {
   "cell_type": "markdown",
   "metadata": {},
   "source": [
    "#### Creating Sets:"
   ]
  },
  {
   "cell_type": "code",
   "execution_count": 83,
   "metadata": {},
   "outputs": [
    {
     "name": "stdout",
     "output_type": "stream",
     "text": [
      "{'a', 'o', 'u', 'i', 'e'}\n"
     ]
    }
   ],
   "source": [
    "vowels = {\"a\", \"e\", \"i\", \"o\", \"u\", \"u\", \"e\", \"i\"}\n",
    "print(vowels)\n"
   ]
  },
  {
   "cell_type": "code",
   "execution_count": 84,
   "metadata": {},
   "outputs": [
    {
     "name": "stdout",
     "output_type": "stream",
     "text": [
      "<class 'dict'>\n",
      "<class 'set'>\n"
     ]
    }
   ],
   "source": [
    "#a new set \n",
    "vowels = {}\n",
    "print(type(vowels))\n",
    "vowels = set()\n",
    "print(type(vowels))"
   ]
  },
  {
   "cell_type": "markdown",
   "metadata": {},
   "source": [
    "#### Are Sets immutable ??"
   ]
  },
  {
   "cell_type": "markdown",
   "metadata": {},
   "source": [
    "For set operations you can check the different operators provided by python (union \"|\", intersection \"&\", ....)"
   ]
  },
  {
   "cell_type": "markdown",
   "metadata": {},
   "source": [
    "##### Operations:"
   ]
  },
  {
   "cell_type": "markdown",
   "metadata": {},
   "source": [
    "###### Adding Elements:"
   ]
  },
  {
   "cell_type": "code",
   "execution_count": 2,
   "metadata": {},
   "outputs": [
    {
     "data": {
      "text/plain": [
       "{1, 2, 3, 4, 5, 6}"
      ]
     },
     "execution_count": 2,
     "metadata": {},
     "output_type": "execute_result"
    }
   ],
   "source": [
    "my_set = {1, 2, 3, 4, 5}\n",
    "my_set.add(6)\n",
    "my_set"
   ]
  },
  {
   "cell_type": "markdown",
   "metadata": {},
   "source": [
    "###### Removing Elements:"
   ]
  },
  {
   "cell_type": "code",
   "execution_count": 3,
   "metadata": {},
   "outputs": [
    {
     "data": {
      "text/plain": [
       "{1, 2, 4, 5, 6}"
      ]
     },
     "execution_count": 3,
     "metadata": {},
     "output_type": "execute_result"
    }
   ],
   "source": [
    "my_set.remove(3)\n",
    "my_set"
   ]
  },
  {
   "cell_type": "markdown",
   "metadata": {},
   "source": [
    "###### Union, Intersection, and Difference:"
   ]
  },
  {
   "cell_type": "code",
   "execution_count": 87,
   "metadata": {},
   "outputs": [
    {
     "name": "stdout",
     "output_type": "stream",
     "text": [
      "{1, 2, 3, 4, 5} {3} {1, 2}\n"
     ]
    }
   ],
   "source": [
    "set1 = {1, 2, 3}\n",
    "set2 = {3, 4, 5}\n",
    "\n",
    "union_set = set1.union(set2)\n",
    "intersection_set = set1.intersection(set2)\n",
    "difference_set = set1.difference(set2)\n",
    "print(union_set,intersection_set,difference_set)"
   ]
  },
  {
   "cell_type": "markdown",
   "metadata": {},
   "source": [
    "###### Membership Test:"
   ]
  },
  {
   "cell_type": "code",
   "execution_count": 88,
   "metadata": {},
   "outputs": [
    {
     "name": "stdout",
     "output_type": "stream",
     "text": [
      "True\n"
     ]
    }
   ],
   "source": [
    "print(2 in my_set)  # Output: True"
   ]
  },
  {
   "cell_type": "markdown",
   "metadata": {},
   "source": [
    "### Dictionaries:"
   ]
  },
  {
   "cell_type": "markdown",
   "metadata": {},
   "source": [
    "A dictionary is an unordered collection of key-value pairs, where each key must be unique."
   ]
  },
  {
   "cell_type": "markdown",
   "metadata": {},
   "source": [
    "#### Creating Dictionaries:\n",
    "\n"
   ]
  },
  {
   "cell_type": "code",
   "execution_count": 159,
   "metadata": {},
   "outputs": [
    {
     "data": {
      "text/plain": [
       "{'01': 'Youcef', '02': 'Mohamed', '03': 'Asma', '04': 'Yasmine'}"
      ]
     },
     "execution_count": 159,
     "metadata": {},
     "output_type": "execute_result"
    }
   ],
   "source": [
    "#Dict are like maps in c++, an element is composed of a key, value pair\n",
    "#For dictionnaries\n",
    "di = {}#create an empty\n",
    "di = dict()#using construct\n",
    "##################\n",
    "sdi = {\"01\":\"Youcef\",\"02\":\"Mohamed\",\"03\":\"Asma\",\"04\":\"Yasmine\"}\n",
    "sdi "
   ]
  },
  {
   "cell_type": "markdown",
   "metadata": {},
   "source": [
    "##### Accessing Values:"
   ]
  },
  {
   "cell_type": "code",
   "execution_count": 129,
   "metadata": {},
   "outputs": [
    {
     "data": {
      "text/plain": [
       "'Youcef'"
      ]
     },
     "execution_count": 129,
     "metadata": {},
     "output_type": "execute_result"
    }
   ],
   "source": [
    "sdi[\"01\"]"
   ]
  },
  {
   "cell_type": "markdown",
   "metadata": {},
   "source": [
    "#### Adding or Updating Entries:"
   ]
  },
  {
   "cell_type": "code",
   "execution_count": 130,
   "metadata": {},
   "outputs": [
    {
     "data": {
      "text/plain": [
       "{'01': 'Youcef',\n",
       " '02': 'Mohamed',\n",
       " '03': 'Asma',\n",
       " '04': 'Yasmine',\n",
       " '05': 'Sofiane'}"
      ]
     },
     "execution_count": 130,
     "metadata": {},
     "output_type": "execute_result"
    }
   ],
   "source": [
    "sdi[\"05\"] = \"Sofiane\"\n",
    "sdi"
   ]
  },
  {
   "cell_type": "markdown",
   "metadata": {},
   "source": [
    "#### Keys must be unique and immutable"
   ]
  },
  {
   "cell_type": "code",
   "execution_count": 92,
   "metadata": {},
   "outputs": [
    {
     "ename": "TypeError",
     "evalue": "unhashable type: 'list'",
     "output_type": "error",
     "traceback": [
      "\u001b[0;31m---------------------------------------------------------------------------\u001b[0m",
      "\u001b[0;31mTypeError\u001b[0m                                 Traceback (most recent call last)",
      "Cell \u001b[0;32mIn[92], line 1\u001b[0m\n\u001b[0;32m----> 1\u001b[0m sdi[[\u001b[38;5;241m1\u001b[39m,\u001b[38;5;241m2\u001b[39m]] \u001b[38;5;241m=\u001b[39m \u001b[38;5;124m\"\u001b[39m\u001b[38;5;124mkhadija\u001b[39m\u001b[38;5;124m\"\u001b[39m\n",
      "\u001b[0;31mTypeError\u001b[0m: unhashable type: 'list'"
     ]
    }
   ],
   "source": [
    "sdi[[1,2]] = \"khadija\""
   ]
  },
  {
   "cell_type": "code",
   "execution_count": 133,
   "metadata": {},
   "outputs": [
    {
     "ename": "KeyError",
     "evalue": "'335'",
     "output_type": "error",
     "traceback": [
      "\u001b[0;31m---------------------------------------------------------------------------\u001b[0m",
      "\u001b[0;31mKeyError\u001b[0m                                  Traceback (most recent call last)",
      "Cell \u001b[0;32mIn[133], line 1\u001b[0m\n\u001b[0;32m----> 1\u001b[0m sdi[\u001b[38;5;124m\"\u001b[39m\u001b[38;5;124m335\u001b[39m\u001b[38;5;124m\"\u001b[39m]\n",
      "\u001b[0;31mKeyError\u001b[0m: '335'"
     ]
    }
   ],
   "source": [
    "sdi['335']"
   ]
  },
  {
   "cell_type": "markdown",
   "metadata": {},
   "source": [
    "#### Checking Membership:"
   ]
  },
  {
   "cell_type": "code",
   "execution_count": 134,
   "metadata": {},
   "outputs": [
    {
     "name": "stdout",
     "output_type": "stream",
     "text": [
      "Sofiane\n"
     ]
    }
   ],
   "source": [
    "#check before using key \n",
    "if \"05\" in sdi:\n",
    "    print(sdi[\"05\"])"
   ]
  },
  {
   "cell_type": "code",
   "execution_count": 161,
   "metadata": {},
   "outputs": [
    {
     "name": "stdout",
     "output_type": "stream",
     "text": [
      "01\n",
      "02\n",
      "03\n",
      "04\n"
     ]
    }
   ],
   "source": [
    "for (key,value) in sdi.items():\n",
    "    print(key)"
   ]
  },
  {
   "cell_type": "code",
   "execution_count": 136,
   "metadata": {},
   "outputs": [
    {
     "name": "stdout",
     "output_type": "stream",
     "text": [
      "Asma\n",
      "Mustapha\n"
     ]
    },
    {
     "data": {
      "text/plain": [
       "{'01': 'Youcef',\n",
       " '02': 'Mohamed',\n",
       " '03': 'Asma',\n",
       " '04': 'Yasmine',\n",
       " '05': 'Sofiane'}"
      ]
     },
     "execution_count": 136,
     "metadata": {},
     "output_type": "execute_result"
    }
   ],
   "source": [
    "\"\"\"Or use get method (if suitable) you can notice that we added a default value as a parameter, \n",
    "so that if the key does not exist , it will be created \"\"\"\n",
    "print(sdi.get(\"03\",\"Mustapha\"))\n",
    "print(sdi.get(\"06\",\"Mustapha\"))\n",
    "sdi.get(\"06\",\"Mustapha\")\n",
    "sdi"
   ]
  },
  {
   "cell_type": "markdown",
   "metadata": {},
   "source": [
    "##### Getting Keys and Values:"
   ]
  },
  {
   "cell_type": "code",
   "execution_count": 162,
   "metadata": {
    "scrolled": true
   },
   "outputs": [
    {
     "name": "stdout",
     "output_type": "stream",
     "text": [
      "dict_keys(['01', '02', '03', '04'])\n",
      "<class 'dict_keys'>\n",
      "****************\n",
      "dict_values(['Youcef', 'Mohamed', 'Asma', 'Yasmine'])\n",
      "<class 'dict_values'>\n",
      "****************\n",
      "dict_items([('01', 'Youcef'), ('02', 'Mohamed'), ('03', 'Asma'), ('04', 'Yasmine')])\n",
      "<class 'dict_items'>\n",
      "****************\n",
      "False\n",
      "03\n"
     ]
    }
   ],
   "source": [
    "#other methods\n",
    "k = sdi.keys()\n",
    "v = sdi.values()\n",
    "ite = sdi.items()\n",
    "print(k)\n",
    "print(type(k))\n",
    "print(\"****************\")\n",
    "print(v)\n",
    "print(type(v))\n",
    "print(\"****************\")\n",
    "print(ite)\n",
    "print(type(ite))\n",
    "print(\"****************\")\n",
    "#accessing dict objects \n",
    "#ite[2] #this will raise an error\n",
    "#you can check using hasattr \n",
    "print(hasattr(k,'__getitem__'))#an object is accessable via [] if it has __getitem__ implemented\n",
    "#print(k[2])#turn it to a list and then access it \n",
    "print(list(k)[2])#turn it to a list and then access it "
   ]
  },
  {
   "cell_type": "code",
   "execution_count": 137,
   "metadata": {},
   "outputs": [],
   "source": [
    "#a value could be a sequence type in dict\n",
    "#here we have the \"course\" value as another dict\n",
    "#How do access it?\n",
    "students =[ {\n",
    "            \"name\": \"Josiah\", \n",
    "            \"id\": \"00-02-11\", \n",
    "            \"degree\": \"MSc Computing\",\n",
    "            \"courses\": {\n",
    "                \"1st course\":{\n",
    "                    \"title\": \"Introduction to Machine Learning\", \n",
    "                    \"code\": \"60012\"\n",
    "                },\n",
    "                \"2nd course\":{ \n",
    "                    \"title\": \"Computer Vision\",\n",
    "                    \"code\": \"60006\"\n",
    "                }\n",
    "            }\n",
    "          },{\n",
    "            \"name\": \"Youcef\", \n",
    "            \"id\": \"00-02-12\", \n",
    "            \"degree\": \"Phd Computing\",\n",
    "            \"courses\": {\n",
    "                \"1st course\":{\n",
    "                    \"title\": \"Introduction to Machine Learning\", \n",
    "                    \"code\": \"60012\"\n",
    "                },\n",
    "                \"2nd course\":{ \n",
    "                    \"title\": \"Computer Vision\",\n",
    "                    \"code\": \"60006\"\n",
    "                }\n",
    "            }\n",
    "          }]"
   ]
  },
  {
   "cell_type": "code",
   "execution_count": 138,
   "metadata": {},
   "outputs": [
    {
     "name": "stdout",
     "output_type": "stream",
     "text": [
      "{'1st course': {'title': 'Introduction to Machine Learning', 'code': '60012'}, '2nd course': {'title': 'Computer Vision', 'code': '60006'}}\n",
      "***************************************************************************\n",
      "{'title': 'Introduction to Machine Learning', 'code': '60012'}\n"
     ]
    }
   ],
   "source": [
    "print(students[0][\"courses\"])\n",
    "print(\"***************************************************************************\")\n",
    "print(students[0][\"courses\"][\"1st course\"])"
   ]
  },
  {
   "cell_type": "markdown",
   "metadata": {},
   "source": [
    "## Control flow"
   ]
  },
  {
   "cell_type": "markdown",
   "metadata": {},
   "source": [
    "__If-else  and Switch Statements__\n"
   ]
  },
  {
   "cell_type": "code",
   "execution_count": null,
   "metadata": {},
   "outputs": [],
   "source": [
    "if len(sdi) > 10:\n",
    "    print(\"Our database large enaugh !!\")\n",
    "elif len(sdi) in range(4,9):\n",
    "    print(\"It's OK\")\n",
    "else:\n",
    "    print(\"Too small\")"
   ]
  },
  {
   "cell_type": "code",
   "execution_count": 139,
   "metadata": {},
   "outputs": [
    {
     "name": "stdout",
     "output_type": "stream",
     "text": [
      "Youcef\n"
     ]
    }
   ],
   "source": [
    "#after python version 3.10 we can use switch statement\n",
    "#No logic in this example, just to see how to manupilate list, dict, list comprehension and switch statement \n",
    "#(focus on the syntax)\n",
    "key = [j for j, val in sdi.items() if val == \"Youcef\"][0]\n",
    "\n",
    "match key:\n",
    "    case \"01\":\n",
    "        result = \"Youcef\"\n",
    "    case \"02\":\n",
    "        result = \"Mohamed\"\n",
    "    case \"03\":\n",
    "        result = \"Asma\"\n",
    "    case _:\n",
    "        result = \"Does not exist\"\n",
    "\n",
    "print(result)"
   ]
  },
  {
   "cell_type": "markdown",
   "metadata": {},
   "source": [
    "__Loops__"
   ]
  },
  {
   "cell_type": "code",
   "execution_count": 140,
   "metadata": {},
   "outputs": [
    {
     "name": "stdout",
     "output_type": "stream",
     "text": [
      "01 is the ID of Student Youcef\n",
      "02 is the ID of Student Mohamed\n",
      "03 is the ID of Student Asma\n",
      "04 is the ID of Student Yasmine\n",
      "05 is the ID of Student Sofiane\n"
     ]
    }
   ],
   "source": [
    "for key in sdi:\n",
    "    print(f\"{key} is the ID of Student {sdi[key]}\")"
   ]
  },
  {
   "cell_type": "code",
   "execution_count": 141,
   "metadata": {},
   "outputs": [
    {
     "name": "stdout",
     "output_type": "stream",
     "text": [
      "01 is the ID of Student Youcef\n",
      "02 is the ID of Student Mohamed\n",
      "03 is the ID of Student Asma\n",
      "04 is the ID of Student Yasmine\n",
      "05 is the ID of Student Sofiane\n"
     ]
    }
   ],
   "source": [
    "#Or () are optional\n",
    "for (key, value) in sdi.items():\n",
    "    print(f\"{key} is the ID of Student {value}\")"
   ]
  },
  {
   "cell_type": "code",
   "execution_count": 144,
   "metadata": {},
   "outputs": [
    {
     "name": "stdout",
     "output_type": "stream",
     "text": [
      "0 is the ID of Student 1\n",
      "0 is the ID of Student 2\n",
      "0 is the ID of Student 3\n",
      "0 is the ID of Student 4\n",
      "0 is the ID of Student 5\n"
     ]
    }
   ],
   "source": [
    "# is it doable ?\n",
    "for key, value in sdi:\n",
    "    print(f\"{key} is the ID of Student {value}\")"
   ]
  },
  {
   "cell_type": "code",
   "execution_count": 110,
   "metadata": {},
   "outputs": [
    {
     "name": "stdout",
     "output_type": "stream",
     "text": [
      "True\n",
      "True\n"
     ]
    }
   ],
   "source": [
    "#check if an object is iterable\n",
    "print(hasattr(sdi,'__iter__'))\n",
    "print(hasattr(sdi.items(),'__iter__'))\n",
    "#both has the __iter__ attribute !!!"
   ]
  },
  {
   "cell_type": "markdown",
   "metadata": {},
   "source": [
    "#Simply it means that sdi is iterable only via one value which is the key\n",
    "#on the other hand, sdi.items() is iterable vie a pair (key, value) "
   ]
  },
  {
   "cell_type": "code",
   "execution_count": null,
   "metadata": {},
   "outputs": [],
   "source": [
    "#using range()\n",
    "for i in range(0, 10, 2):\n",
    "    print(i)"
   ]
  },
  {
   "cell_type": "code",
   "execution_count": 111,
   "metadata": {},
   "outputs": [
    {
     "name": "stdout",
     "output_type": "stream",
     "text": [
      "[(0, 'Cold Heart'), (1, 'Shivers'), (2, 'Love Nwantiti'), (3, 'Boyz'), (4, 'Heat Waves')]\n",
      "At number 2 we have Cold Heart!\n",
      "At number 3 we have Shivers!\n",
      "At number 4 we have Love Nwantiti!\n",
      "At number 5 we have Boyz!\n",
      "At number 6 we have Heat Waves!\n"
     ]
    }
   ],
   "source": [
    "#Enumerate\n",
    "top_hits = [\"Cold Heart\", \"Shivers\", \"Love Nwantiti\", \"Boyz\", \"Heat Waves\"]\n",
    "#print(list(enumerate(top_hits, 0)))\n",
    "for (position, title) in enumerate(top_hits, 2):# we can specify the stating index\n",
    "    print(f\"At number {position} we have {title}!\")\n",
    "# we can zip the title to its corresponding index to form a pair (index, title) "
   ]
  },
  {
   "cell_type": "code",
   "execution_count": 145,
   "metadata": {},
   "outputs": [
    {
     "name": "stdout",
     "output_type": "stream",
     "text": [
      "[(1, 4), (2, 5), (3, 6)]\n"
     ]
    }
   ],
   "source": [
    "#Zip\n",
    "#execute the following and tell us what does ZIP do \n",
    "x = [1, 2, 3]\n",
    "y = [4, 5, 6]\n",
    "zipped = zip(x, y)\n",
    "print(list(zipped))"
   ]
  },
  {
   "cell_type": "code",
   "execution_count": 112,
   "metadata": {},
   "outputs": [
    {
     "data": {
      "text/plain": [
       "['Asma']"
      ]
     },
     "execution_count": 112,
     "metadata": {},
     "output_type": "execute_result"
    }
   ],
   "source": [
    "#this is an ordinary way to extract short names from sdi dict\n",
    "short_names = []\n",
    "for name in sdi.values():\n",
    "    if len(name) <= 4:\n",
    "        short_names.append(name)\n",
    "short_names"
   ]
  },
  {
   "cell_type": "code",
   "execution_count": null,
   "metadata": {},
   "outputs": [],
   "source": [
    "#Simpler in one line of code\n",
    "shorts = [name for name in sdi.values() if len(name) <= 4]\n",
    "shorts"
   ]
  },
  {
   "cell_type": "code",
   "execution_count": 113,
   "metadata": {},
   "outputs": [
    {
     "name": "stdout",
     "output_type": "stream",
     "text": [
      "{'01': 'Youcef', '02': 'Mohamed', '04': 'Yasmine'}\n"
     ]
    }
   ],
   "source": [
    "#we can apply it to a dict \n",
    "long_names = {key: value for (key, value) in sdi.items() if len(value) > 4}\n",
    "print(long_names)"
   ]
  },
  {
   "cell_type": "markdown",
   "metadata": {},
   "source": [
    "## Functions"
   ]
  },
  {
   "cell_type": "code",
   "execution_count": 115,
   "metadata": {},
   "outputs": [
    {
     "name": "stdout",
     "output_type": "stream",
     "text": [
      "these are long names : {'01': 'Youcef', '02': 'Mohamed', '04': 'Yasmine'}, while these are short {'03': 'Asma'}\n"
     ]
    }
   ],
   "source": [
    "#You can pass objects as arguments, \n",
    "#Return more than one result\n",
    "#Necessarily, numbers could be used as arguments\n",
    "def compute_length(di):\n",
    "    long_names = {key: value for (key, value) in sdi.items() if len(value) > 4}\n",
    "    short_names = {key: value for (key, value) in sdi.items() if len(value) <= 4}\n",
    "    return long_names, short_names\n",
    "\n",
    "long, short = compute_length(sdi)\n",
    "print(f\"these are long names : {long}, while these are short {short}\")"
   ]
  },
  {
   "cell_type": "code",
   "execution_count": 120,
   "metadata": {},
   "outputs": [
    {
     "name": "stdout",
     "output_type": "stream",
     "text": [
      "these are long names : {'01': 'Youcef', '02': 'Mohamed', '04': 'Yasmine'}\n",
      "these are short {'01': 'Youcef', '02': 'Mohamed', '03': 'Asma', '04': 'Yasmine'}\n",
      "***************************************************************\n",
      "using another choice : {'01': 'Youcef', '02': 'Mohamed', '03': 'Asma', '04': 'Yasmine'}\n",
      "using only one argument {'01': 'Youcef', '02': 'Mohamed', '04': 'Yasmine'}\n"
     ]
    }
   ],
   "source": [
    "#default values for arguments\n",
    "def compute_length(di, choice='long'):\n",
    "    if choice == 'long':\n",
    "        treated_names = {key: value for (key, value) in sdi.items() if len(value) > 4}\n",
    "    elif choice == 'long':\n",
    "        treated_names = {key: value for (key, value) in sdi.items() if len(value) <= 4}\n",
    "    else:\n",
    "        treated_names = di\n",
    "    return treated_names\n",
    "long = compute_length(sdi,'long')\n",
    "shorts = compute_length(sdi, choice = 'short')#calling the function with keyword (good practice)\n",
    "other = compute_length(sdi, choice='other')\n",
    "one = compute_length(sdi)\n",
    "print(f\"these are long names : {long}\") \n",
    "print(f\"these are short {shorts}\")\n",
    "print(\"***************************************************************\")\n",
    "print(f\"using another choice : {other}\") \n",
    "print(f\"using only one argument {one}\")"
   ]
  },
  {
   "cell_type": "markdown",
   "metadata": {},
   "source": [
    "#### Try out the built-in functions on your own later (sum, min, max, abs, ...........) you might find them useful"
   ]
  },
  {
   "cell_type": "code",
   "execution_count": 146,
   "metadata": {},
   "outputs": [
    {
     "name": "stdout",
     "output_type": "stream",
     "text": [
      "{'background': 'red', 'width': 500, 'avatar': 'selfie.jpg'}\n"
     ]
    }
   ],
   "source": [
    "#Arbitrary number of keywords arguments\n",
    "def customise_page(**kwargs):\n",
    "    print_args(kwargs)\n",
    "\n",
    "def print_args(options):\n",
    "    print(options)\n",
    "#     for key, value in options.items():\n",
    "#         if key == \"background\":\n",
    "#             set_background(value)\n",
    "#         elif key == \"width\":\n",
    "#             set_width(value)\n",
    "#         elif key == \"avatar\":\n",
    "#             set_avatar(value)\n",
    "#         else:\n",
    "#             print(f\"Unknown keyword {key}.\")\n",
    "#             return\n",
    "\n",
    "customise_page(background=\"red\", width=500, avatar=\"selfie.jpg\")"
   ]
  },
  {
   "cell_type": "markdown",
   "metadata": {},
   "source": [
    "# Object-Oriented Programming"
   ]
  },
  {
   "cell_type": "markdown",
   "metadata": {},
   "source": [
    "### Class and Object:"
   ]
  },
  {
   "cell_type": "markdown",
   "metadata": {},
   "source": [
    "- A class is a blueprint for creating objects. It defines attributes (characteristics) and methods (functions) that the objects will have.\n",
    "\n",
    "- An object is an instance of a class. It is a concrete realization of the class, with specific values for its attributes."
   ]
  },
  {
   "cell_type": "code",
   "execution_count": null,
   "metadata": {},
   "outputs": [],
   "source": [
    "#create a new class\n",
    "class Student:\n",
    "    def __init__(self, n, a, nat=\"DZ\"):#the constructor to create a class object\n",
    "        self.name = n\n",
    "        self.age = a\n",
    "        self.nationality = nat\n",
    "        \n",
    "    def introduce(self):\n",
    "        print(f\"Hi my name is {self.name} from {self.nationality}, i'm {self.age} years old and i'm an ENSIA student!\")\n",
    "    \n",
    "#     def __str__(self):\n",
    "#         return f\"I am {self.name}\"\n",
    "    \n",
    "student = Student('Bachir', 21)#notice that we did not use self parameter when creating the object\n",
    "print(student.name)\n",
    "print(student.age)\n",
    "print(student.nationality)\n",
    "\n",
    "#name, age, nationality are called attributes, we access them using . operator, and class object (self if within the class) \n",
    "\n",
    "print(\"************************\")\n",
    "student.introduce()#this is a method called just like attributes with .\n",
    "\n",
    "print(student)#How to print a customized string instead !!?"
   ]
  },
  {
   "cell_type": "markdown",
   "metadata": {},
   "source": [
    "### Dunder methods (\\__method\\__)"
   ]
  },
  {
   "cell_type": "markdown",
   "metadata": {},
   "source": [
    "Are built-in methods, could be used to customize classes\n",
    "\\__init\\__() is a dunder method called when a new object is created, we can cumtomize it by adding more attributes...."
   ]
  },
  {
   "cell_type": "markdown",
   "metadata": {},
   "source": [
    "\\__str\\__() is used when printing or converting an object into a string. In fact, str(x) invokes x.\\__str\\__()."
   ]
  },
  {
   "cell_type": "markdown",
   "metadata": {},
   "source": [
    "\\__add\\__(), \\__sub\\__(), \\__mul\\__(), \\__truediv\\__(), \\__pow\\__() will overload their respective mathematical operators.\n",
    "for example, x+y actually invokes x.\\__add\\__(y)."
   ]
  },
  {
   "cell_type": "code",
   "execution_count": null,
   "metadata": {},
   "outputs": [],
   "source": [
    "class Vector: \n",
    "    def __init__(self, x, y): \n",
    "        self.x = x \n",
    "        self.y = y\n",
    "\n",
    "    def __add__(self, other): \n",
    "        return Vector(self.x + other.x, self.y + other.y)\n",
    "    \n",
    "    def __mul__(self, other): \n",
    "        return Vector(self.x * other.x, self.y * other.y)\n",
    "\n",
    "    def __str__(self): \n",
    "        return f\"Vector({self.x}, {self.y})\"\n",
    "    \n",
    "    def __mod__(self, other):\n",
    "        return Vector(self.x % other.x, self.y % other.y)\n",
    "\n",
    "#     def __truediv__(self, other):\n",
    "#         return Vector(self.x / other.x, self.y / other.y)\n",
    "\n",
    "#     def __floordiv__(self, other):\n",
    "#         return Vector(self.x // other.x, self.y // other.y)\n",
    "    \n",
    "#     def __pow__(self, other):\n",
    "#         return Vector(self.x ** other.x, self.y ** other.y)\n",
    "\n",
    "v1 = Vector(1, 2) \n",
    "v2 = Vector(5, 7) \n",
    "v3 = v1 + v2\n",
    "print(v3)\n",
    "print('***************************************')\n",
    "\n",
    "print(v1 ** v2)#this will raise an error since the dunder function that handle the division operator is not used"
   ]
  },
  {
   "cell_type": "markdown",
   "metadata": {},
   "source": [
    "### Inheritance:"
   ]
  },
  {
   "cell_type": "code",
   "execution_count": null,
   "metadata": {},
   "outputs": [],
   "source": [
    "#In\n",
    "class GameCharacter:\n",
    "    def __init__(self, name, health=50, strength=30, defence=20):\n",
    "        self.name = name\n",
    "        self.health = health\n",
    "        self.strength = strength\n",
    "        self.defence = defence\n",
    "\n",
    "    def attack(self, victim):\n",
    "        victim.health = victim.health - self.strength\n",
    "        print(f\"Bam! {self.name} attacked {victim.name}.\", \n",
    "             f\"{victim.name}'s health is now {victim.health}\")\n",
    "\n",
    "    def defend(self, attacker):\n",
    "        self.health = self.health - attacker.strength * 0.25\n",
    "        print(f\"{self.name} defended against {attacker.name}.\",\n",
    "             f\"{self.name}'s health is now {self.health}\")\n",
    "\n",
    "    def __str__(self):\n",
    "        return (f\"{self.name} is a GameCharacter (health: {self.health}, \"\n",
    "                f\"strength: {self.strength}, defence: {self.defence})\"\n",
    "               )\n",
    "\n",
    "\n",
    "class Villain(GameCharacter):#this means that villain is a subclass of GameCharacter\n",
    "    def __init__(self, name, health=50, strength=30, defence=20, evilness=50):#call the villain constructor\n",
    "        # call the constructor of the superclass\n",
    "        super().__init__(name, health, strength, defence)#Must use super() otherwise no inheritance\n",
    "        self.evilness = 50\n",
    "\n",
    "    def evil_laugh(self):\n",
    "        print(\"Heheheheheeeeee!!\")    \n",
    "\n",
    "    def __str__(self):\n",
    "        return (super().__str__().replace(\"GameCharacter\", \"Villain\").replace(\")\", \",\")#call __str__ and override it \n",
    "                + f\" evilness: {self.evilness})\" \n",
    "               )\n",
    "\n",
    "boy = GameCharacter(\"Boy\", 100, 20, 10)\n",
    "evilman = Villain(\"Voldemort\", 30, 50, 40, 100)\n",
    "print(boy)\n",
    "print(evilman)\n",
    "evilman.attack(boy)\n",
    "boy.defend(evilman)"
   ]
  },
  {
   "cell_type": "code",
   "execution_count": null,
   "metadata": {},
   "outputs": [],
   "source": [
    "boy.evil_laugh()  # You should get an error here."
   ]
  },
  {
   "cell_type": "markdown",
   "metadata": {},
   "source": [
    "### Encapsulation"
   ]
  },
  {
   "cell_type": "markdown",
   "metadata": {},
   "source": [
    "In python you have __Public__ or __non public__ attributes"
   ]
  },
  {
   "cell_type": "code",
   "execution_count": null,
   "metadata": {},
   "outputs": [],
   "source": [
    "class Student:\n",
    "    def __init__(self, n, a, nat=\"DZ\"):#the constructor to create a class object\n",
    "        self.name = n\n",
    "        self.nationality = nat#public attribute\n",
    "        self.set_age(a)# non public\n",
    "        \n",
    "    #getter for age attribute\n",
    "    def get_age(self): \n",
    "        return self.__age\n",
    "    \n",
    "    #setter for age attribute\n",
    "    def set_age(self, age):\n",
    "        if age > 20:\n",
    "            print(\"no way i am always under 20 !!\")\n",
    "        else:    \n",
    "            self.__age = age\n",
    "    \n",
    "    def introduce(self):\n",
    "        print(f\"Hi my name is {self.name} from {self.nationality}, i'm {self.age} years old and i'm an ENSIA student!\")\n",
    "\n",
    "student = Student('paulo', 22)\n",
    "\n",
    "print(student.__dict__)#to access object attributes\n",
    "\n",
    "# print(student.age)#error\n",
    "#is there a way to access non public attributes !!?\n",
    "#Yess\n",
    "#print(student._Student__age)\n",
    "#print(student.get_age())#Solution, you need to implement a getter and setter methods to modigy or access the attribute"
   ]
  },
  {
   "cell_type": "markdown",
   "metadata": {},
   "source": [
    "Why? ..... Let's say we want to do something to our age attribute before exposing it, and other pretreatement before assinging new values. In this way we could use the above code and add the treatements in the getter and setter methods respectively and it will work just fine!!"
   ]
  },
  {
   "cell_type": "markdown",
   "metadata": {},
   "source": [
    "__However, in python there is another simple way (and more readable) to do it using some advanced trick called DECORATOR__"
   ]
  },
  {
   "cell_type": "raw",
   "metadata": {},
   "source": [
    "Decorators are “wrappers”, which means that they let you execute code before and after the function (method or attribute) they decorate without modifying the function itself."
   ]
  },
  {
   "cell_type": "markdown",
   "metadata": {},
   "source": [
    "__Python programming provides us with a built-in @property decorator which makes usage of getter and setters much easier in Object-Oriented Programming.__"
   ]
  },
  {
   "cell_type": "code",
   "execution_count": null,
   "metadata": {},
   "outputs": [],
   "source": [
    "#Why: Let's say we want for \n",
    "class Person:\n",
    "    def __init__(self, n, a, nat=\"DZ\"):#the constructor to create a class object\n",
    "        self.name = n\n",
    "        self.nationality = nat#public attribute\n",
    "        self.age = a \n",
    "    \n",
    "    @property #property is a built-in python decorator, it uses two arguments getter and setter\n",
    "    def age(self):\n",
    "        return self.__age -2 #here the age will always be substracted by 2 before passing it to the caller\n",
    "\n",
    "    @age.setter\n",
    "    def age(self, new_age):#this will call this if-else block before assign the new value to age\n",
    "        if new_age < 30:\n",
    "            self.__age = new_age\n",
    "        else:\n",
    "            print(\"Never! I am always under 30!\")    \n",
    "            \n",
    "    def introduce(self):\n",
    "        print(f\"Hi my name is {self.name} from {self.nationality}, i'm {self.age} years old and i'm an ENSIA student!\")\n",
    "\n",
    "stu = Person('name', 15)\n",
    "print(stu.age)\n",
    "stu.age = 56\n",
    "print(stu.age)\n",
    "\n",
    "#Now it does not matter if it is public or non public in this case, \n",
    "#since we used the decorator to wrapp some functionalities to it before using"
   ]
  },
  {
   "cell_type": "code",
   "execution_count": null,
   "metadata": {},
   "outputs": [],
   "source": [
    "#Equivalent code for property decorator, the code that python is using behind the scenes\n",
    "class Person:\n",
    "    def __init__(self, n, a, nat=\"DZ\"):#the constructor to create a class object\n",
    "        self.name = n\n",
    "        self.nationality = nat#public attribute\n",
    "        self.set_age(a)#call set_age to set the age value other wise \n",
    "    \n",
    "    def get_age(self):#this function is called by property to get the age attribute value\n",
    "        return self.__age - 2 \n",
    "\n",
    "    def set_age(self, new_age):\n",
    "        if new_age < 30:\n",
    "            self.__age = new_age\n",
    "        else:\n",
    "            print(\"Never! I am always under 30!\")    \n",
    "    age = property(get_age, set_age)#create a property object called age, link to to get_age and set_age   \n",
    "    \n",
    "    def introduce(self):\n",
    "        print(f\"Hi my name is {self.name} from {self.nationality}, i'm {self.age} years old and i'm an ENSIA student!\")\n",
    "\n",
    "stu = Person('name', 15)\n",
    "print(stu.name)#accessing the property object age\n",
    "stu.age = 56"
   ]
  },
  {
   "cell_type": "markdown",
   "metadata": {},
   "source": [
    "__Why using @property :__  The bigger problem with using the ordinary getters and setters is that all the programs that implemented our previous class have to modify their code from student.age to obj.get_age() and all expressions like student.age = val to stduent.set_age(val).\n",
    "\n",
    "This refactoring can cause problems while dealing with hundreds of thousands of lines of codes.\n",
    "\n",
    "__PS:/ refer to __ \"https://www.programiz.com/python-programming/property#:~:text=The%20%40property%20Decorator,set%20value%20of%20the%20attribute\"µ"
   ]
  },
  {
   "cell_type": "code",
   "execution_count": 148,
   "metadata": {},
   "outputs": [
    {
     "name": "stdout",
     "output_type": "stream",
     "text": [
      "<html>\n",
      "<body>\n",
      "This is my text\n",
      "</body>\n",
      "</html>\n"
     ]
    }
   ],
   "source": [
    "#a simple example of decorator \n",
    "#we want to wrap some functionalities to our function \"text_printer\" (decorate it !) \n",
    "#so here in this case we used two decorator on the same function\n",
    "#the first decorator will wrapp the given function to two body tags\n",
    "#the second one will wrap it to two html tags\n",
    "def html(func): #\n",
    "    def wrapper(*args, **kwargs):#*args and **kwargs for the arbitrary given parameters\n",
    "        print(\"<html>\")\n",
    "        func(*args, **kwargs)\n",
    "        print(\"</html>\")\n",
    "    return wrapper\n",
    "\n",
    "def body(func):\n",
    "    def wrapper(*args, **kwargs):\n",
    "        print(\"<body>\")\n",
    "        func(*args, **kwargs)\n",
    "        print(\"</body>\")\n",
    "    return wrapper\n",
    "\n",
    "@html\n",
    "@body\n",
    "def text_printer(text):\n",
    "    print(text)\n",
    "\n",
    "text_printer(\"This is my text\")"
   ]
  },
  {
   "cell_type": "markdown",
   "metadata": {},
   "source": [
    "No need to worry about Decorators, this is an advanced topic to be explored after \n",
    "You might not need a lot in your development journey ;)"
   ]
  },
  {
   "cell_type": "markdown",
   "metadata": {},
   "source": [
    "### Class and static methods"
   ]
  },
  {
   "cell_type": "markdown",
   "metadata": {},
   "source": [
    "__Class methods__ have a class as parameter, they are bound to a class not to the instances, it means a class methods has access only to class attributes (variables)"
   ]
  },
  {
   "cell_type": "markdown",
   "metadata": {},
   "source": [
    "__Static methods__ on the other hand, are just utility functions that have some parameters and act upon them. (not self nor cls is required for static methods)"
   ]
  },
  {
   "cell_type": "code",
   "execution_count": 5,
   "metadata": {},
   "outputs": [
    {
     "name": "stdout",
     "output_type": "stream",
     "text": [
      "My name is new person and i am 33 years old\n",
      "Population: 3\n",
      "False\n"
     ]
    }
   ],
   "source": [
    "#class method\n",
    "from datetime import date\n",
    "\n",
    "class Person:\n",
    "    count = 0\n",
    "    \n",
    "    def __init__(self, name, age):\n",
    "        self.name = name\n",
    "        self.age = age\n",
    "        Person.count += 1\n",
    "\n",
    "    @classmethod\n",
    "    def get_population(cls): #this class only display the count attribute (number of persons created\n",
    "        cls.age = 25 #this wil do nothing\n",
    "        return f\"Population: {cls.count}\"\n",
    "    \n",
    "    @classmethod \n",
    "    def create_birth_year(cls, name, year_of_birth): #this class method create a person by year of birth\n",
    "        return cls(name, date.today().year - year_of_birth)\n",
    "    \n",
    "    # a static method to check if a\n",
    "    # Person is adult or not.\n",
    "    @staticmethod\n",
    "    def isAdult(age):\n",
    "        return age > 18\n",
    "    \n",
    "    def grow_up(self):\n",
    "        self.age = 45\n",
    "    \n",
    "    def get_count(self):\n",
    "        return self.count\n",
    "    \n",
    "    def __str__(self):\n",
    "        return f\"My name is {self.name} and i am {self.age} years old\"\n",
    "    \n",
    "lecturer = Person(\"Youcef\", 30)\n",
    "stud = Person(\"Amine\", 17)\n",
    "\n",
    "new_objct = Person.create_birth_year(\"new person\", 1991)\n",
    "print(new_objct)\n",
    "\n",
    "print(Person.get_population()) #this is a class method\n",
    "# print(lecturer.get_population()) #could be called this way too\n",
    "\n",
    "# stud.grow_up()#this is an ordinary method, has access to instance attribute\n",
    "\n",
    "\n",
    "print(Person.isAdult(stud.age))"
   ]
  },
  {
   "cell_type": "markdown",
   "metadata": {},
   "source": [
    "# Modules"
   ]
  },
  {
   "cell_type": "markdown",
   "metadata": {},
   "source": [
    "The Python Standard Library actually offers a large collection of __modules__ and __packages__ with lots of useful facilities"
   ]
  },
  {
   "cell_type": "code",
   "execution_count": null,
   "metadata": {},
   "outputs": [],
   "source": [
    "import math\n",
    "help(math)\n",
    "print('******************************')\n",
    "print(math.cos(30 * math.pi / 180))"
   ]
  },
  {
   "cell_type": "code",
   "execution_count": null,
   "metadata": {},
   "outputs": [],
   "source": [
    "from my_lib import Student, print_it, power, Lib_variable\n",
    "import my_lib as v \n",
    "\n",
    "st = Student('new', 45, 'DZ')\n",
    "print(st.name)\n",
    "print(\"*****************\")\n",
    "print_it(\"this is a test\")\n",
    "print(\"*****************\")\n",
    "print(power(number = 5))\n",
    "print(\"*****************\")\n",
    "print(v.Lib_variable)"
   ]
  },
  {
   "cell_type": "markdown",
   "metadata": {},
   "source": [
    "How to get rid of the Testing phrase ? (you are in my_lib..)"
   ]
  },
  {
   "cell_type": "code",
   "execution_count": null,
   "metadata": {},
   "outputs": [],
   "source": [
    "#Now the testing phrase will be printed only if you run script file (as main)\n",
    "%run my_lib.py"
   ]
  },
  {
   "cell_type": "markdown",
   "metadata": {},
   "source": [
    "__Notice that in the script we added__ if \\__name\\__ == \"\\__main\\__\", __what does it mean ??__"
   ]
  },
  {
   "cell_type": "markdown",
   "metadata": {},
   "source": [
    "PS: __Module__ is a set of functions; __Package__ is a set of modules (or packages); a __library__ is set of packages"
   ]
  },
  {
   "cell_type": "markdown",
   "metadata": {},
   "source": [
    "# Files"
   ]
  },
  {
   "cell_type": "code",
   "execution_count": null,
   "metadata": {},
   "outputs": [],
   "source": [
    "#It is not recommended when the file is too large\n",
    "# Open a file in read mode, and read everything into content\n",
    "with open(\"dummy_text.txt\", \"r\") as infile: #with will automatically close the file once you exit the block\n",
    "    content = infile.read() #open() return a file object and assign it to inflie variable\n",
    "#r means read only so you cannot modify (write)\n",
    "content"
   ]
  },
  {
   "cell_type": "code",
   "execution_count": null,
   "metadata": {},
   "outputs": [],
   "source": [
    "#you can read the file one line at a time (memory efficient, process each line individualy)\n",
    "with open(\"dummy_text.txt\", \"r\") as infile: \n",
    "    for line in infile:\n",
    "        print(line.strip()) "
   ]
  },
  {
   "cell_type": "code",
   "execution_count": null,
   "metadata": {},
   "outputs": [],
   "source": [
    "with open(\"dummy_text.txt\", \"r+\") as file: #r+ mean read and write modes\n",
    "    # Move the file cursor to the beginning of the file\n",
    "    file.seek(0)\n",
    "    file.write(\"A new First line\\n\")\n",
    "    \n",
    "    # Move the cursor to the end of the file\n",
    "    file.seek(0, 2)\n",
    "    file.write(\"A new last line\\n\")\n",
    "    \n",
    "    file.seek(0)# Move the file cursor to the beginning of the file to read the hole content\n",
    "    updated_content = file.read()\n",
    "    print(updated_content)\n",
    "    \n",
    "    print(\"*********************\")\n",
    "    file.seek(0, 2)\n",
    "    updated_content = file.read()\n",
    "    print(updated_content) #what do you deduce !"
   ]
  },
  {
   "cell_type": "code",
   "execution_count": null,
   "metadata": {},
   "outputs": [],
   "source": [
    "# open the file in write mode (create it if it does not exist)\n",
    "with open(\"output.txt\", \"w\") as outfile:\n",
    "    outfile.write(\"First line\\n\")\n",
    "    outfile.write(str(2) + \"\\n\")\n",
    "    outfile.write(f\"{3}rd line\\n\")"
   ]
  },
  {
   "cell_type": "markdown",
   "metadata": {},
   "source": [
    "### JSON files  (JavaScript Object Notation)"
   ]
  },
  {
   "cell_type": "markdown",
   "metadata": {},
   "source": [
    "JSON is also used quite often for __communication__ between a web server and your web app or browser."
   ]
  },
  {
   "cell_type": "markdown",
   "metadata": {},
   "source": [
    "__In Python, the json module can be used to load from and write to a JSON file.__"
   ]
  },
  {
   "cell_type": "code",
   "execution_count": null,
   "metadata": {},
   "outputs": [],
   "source": [
    "#this is a json format, just like dict !?\n",
    "json_data = {\n",
    "    \"name\": \"Smith\", \n",
    "    \"bool\": True,\n",
    "    \"interests\": [\"maths\", \"programming\"], \n",
    "    \"age\": 25, \n",
    "    \"courses\": [ \n",
    "        {\n",
    "            \"name\": \"Python\", \n",
    "            \"term\": 1\n",
    "        }, \n",
    "        {\n",
    "            \"name\": \"Soft Eng\", \n",
    "            \"term\": 2\n",
    "        } \n",
    "    ] \n",
    "}\n",
    "json_data"
   ]
  },
  {
   "cell_type": "markdown",
   "metadata": {},
   "source": [
    "Is Json type similar to dict? \n",
    "No, For example, __true__ is __lowercase__, strings can __only__ use double quotes, __dictionaries__ are considered __objects__, __None__ is called __null__, etc. "
   ]
  },
  {
   "cell_type": "markdown",
   "metadata": {},
   "source": [
    "The __json module__ will, however, automatically map between Python and JSON types in the background, so you do not have to worry too much about the details as long as you only use basic Python data types."
   ]
  },
  {
   "cell_type": "code",
   "execution_count": null,
   "metadata": {},
   "outputs": [],
   "source": [
    "import json\n",
    "\n",
    "with open(\"json_file.json\", \"r\") as jsonfile: \n",
    "    data = json.load(jsonfile)# load is used to load a json file and convert it\n",
    "    print(data)\n",
    "    print(\"*********************\")    \n",
    "    print(type(data))    "
   ]
  },
  {
   "cell_type": "code",
   "execution_count": null,
   "metadata": {},
   "outputs": [],
   "source": [
    "json_string = '[{\"id\": 2, \"name\": \"Oran\"}, {\"id\": 6, \"name\": \"Algiers\"}]' #as a list of dict\n",
    "data = json.loads(json_string)#loads is used to load a json string and convert it(into a list this time)\n",
    "print(type(data))\n",
    "print(data[0])\n",
    "print(data[1][\"name\"])\n"
   ]
  },
  {
   "cell_type": "markdown",
   "metadata": {},
   "source": [
    "__Converting String to data object is called deserialisation__"
   ]
  },
  {
   "cell_type": "code",
   "execution_count": null,
   "metadata": {},
   "outputs": [],
   "source": [
    "import json\n",
    "\n",
    "data = {\"course\": \"Introduction to Machine Learning\", \"term\": 2, \"done\": False}\n",
    "\n",
    "with open(\"output.json\", \"w\") as jsonfile: \n",
    "    json.dump(data, jsonfile)# dump to load and convert python to json format\n",
    "\n",
    "#similarly if you want to dums it to a string you use dumps\n",
    "json_string = json.dumps(data)\n",
    "print(json_string) "
   ]
  },
  {
   "cell_type": "markdown",
   "metadata": {},
   "source": [
    "__This process is called serialisation__"
   ]
  },
  {
   "cell_type": "markdown",
   "metadata": {},
   "source": [
    "### Pickle"
   ]
  },
  {
   "cell_type": "markdown",
   "metadata": {},
   "source": [
    "The __pickle__ module is used for storing Python object structures into a file (and retrieving it back into memory at a later time)."
   ]
  },
  {
   "cell_type": "markdown",
   "metadata": {},
   "source": [
    "You __pickle__ your Python objects onto the disk as a binary file (__serialisation__), and you __unpickle__ them from the disk into memory (__deserialisation__)."
   ]
  },
  {
   "cell_type": "code",
   "execution_count": null,
   "metadata": {},
   "outputs": [],
   "source": [
    "import pickle\n",
    "\n",
    "courses = {\n",
    "   70053: {\"lecturer\": \"Ahmed Guessoum\", \"title\": \"Introduction to AI\"}, \n",
    "   70051: {\"lecturer\": \"Imad Bouchrika\", \"title\": \"Mobile Dev\"}\n",
    "}\n",
    "\n",
    "# Save courses to disk. Note binary mode!\n",
    "with open(\"courses.pkl\", \"wb\") as file:\n",
    "    pickle.dump(courses, file)#dump to save\n",
    "\n",
    "# Load courses from disk. Again, it is a binary file!\n",
    "with open(\"courses.pkl\", \"rb\") as file: \n",
    "    pickled_courses = pickle.load(file)#load to load \n",
    "\n",
    "print(pickled_courses)\n",
    "\n",
    "print(type(pickled_courses)) \n",
    "\n",
    "print(courses == pickled_courses) "
   ]
  },
  {
   "cell_type": "markdown",
   "metadata": {},
   "source": [
    "### CSV files\n"
   ]
  },
  {
   "cell_type": "markdown",
   "metadata": {},
   "source": [
    "A CSV file is a plain text file that structures its data in tabular form."
   ]
  },
  {
   "cell_type": "markdown",
   "metadata": {},
   "source": [
    "Generally, CSV files use a comma (,) to separate each data value (hence its name). Other delimiters can also be used: tabs (\\t), colons (:), and semi-colons (;)."
   ]
  },
  {
   "cell_type": "code",
   "execution_count": null,
   "metadata": {},
   "outputs": [],
   "source": [
    "import csv\n",
    "\n",
    "with open(\"student.csv\") as csv_file: \n",
    "    reader = csv.reader(csv_file, delimiter=\",\") \n",
    "    header_row = next(reader) #get the next item from csv reader (which is header row)\n",
    "    print(\"Column names are\"+', '.join(header_row))\n",
    "\n",
    "    for row in reader: #loops through the remaining rows of the reader object\n",
    "        print(f\"Student {row[0]} is from the Faculty of {row[1]}, {row[2]} dept.\") \n"
   ]
  },
  {
   "cell_type": "code",
   "execution_count": null,
   "metadata": {},
   "outputs": [],
   "source": [
    "#You can also read the CSV into a DICT\n",
    "with open(\"student.csv\") as csv_file: \n",
    "    reader = csv.DictReader(csv_file)\n",
    "    print(list(reader))\n"
   ]
  },
  {
   "cell_type": "markdown",
   "metadata": {},
   "source": [
    "__Writing to a CSV file__"
   ]
  },
  {
   "cell_type": "code",
   "execution_count": null,
   "metadata": {},
   "outputs": [],
   "source": [
    "import csv\n",
    "\n",
    "header = [\"name\", \"faculty\", \"department\"]\n",
    "\n",
    "data = [\n",
    "        [\"Alice Smith\", \"Science\", \"Chemistry\"], \n",
    "        [\"Ben Williams\", \"Eng\", \"EEE\"],\n",
    "        [\"Bob Jones\", \"Science\", \"Physics\"],\n",
    "        [\"Andrew Taylor\", \"Eng\", \"Computing\"]\n",
    "       ]\n",
    "\n",
    "with open(\"output_students.csv\", \"w\") as csv_file: \n",
    "    writer = csv.writer(csv_file) #writer object to write on\n",
    "    writer.writerow(header) #write one row\n",
    "    writer.writerows(data) #write multiple rows"
   ]
  },
  {
   "cell_type": "code",
   "execution_count": null,
   "metadata": {},
   "outputs": [],
   "source": [
    "#from dict\n",
    "import csv\n",
    "\n",
    "header = [\"name\", \"faculty\", \"department\"]\n",
    "\n",
    "data = [\n",
    "        {\"name\": \"Alice Smith\", \"faculty\": \"Science\", \"department\": \"Chemistry\"}, \n",
    "        {\"name\": \"Ben Williams\", \"faculty\": \"Eng\", \"department\": \"EEE\"},\n",
    "        {\"name\": \"Bob Jones\", \"faculty\": \"Science\", \"department\": \"Physics\"}\n",
    "       ]\n",
    "\n",
    "extra_student = {\"name\": \"Andrew Taylor\", \n",
    "                 \"faculty\": \"Eng\", \n",
    "                 \"department\": \"Computing\"}\n",
    "\n",
    "with open(\"output_students.csv\", \"w\") as csv_file: \n",
    "    writer = csv.DictWriter(csv_file, fieldnames=header, #DictWriter instead of Writer\n",
    "                            delimiter=\"|\")#using | instead of , as dilimiter \n",
    "    \n",
    "    writer.writeheader() \n",
    "    writer.writerows(data)\n",
    "    writer.writerow(extra_student)"
   ]
  },
  {
   "cell_type": "code",
   "execution_count": null,
   "metadata": {},
   "outputs": [],
   "source": []
  }
 ],
 "metadata": {
  "kernelspec": {
   "display_name": "Python 3 (ipykernel)",
   "language": "python",
   "name": "python3"
  },
  "language_info": {
   "codemirror_mode": {
    "name": "ipython",
    "version": 3
   },
   "file_extension": ".py",
   "mimetype": "text/x-python",
   "name": "python",
   "nbconvert_exporter": "python",
   "pygments_lexer": "ipython3",
   "version": "3.11.5"
  }
 },
 "nbformat": 4,
 "nbformat_minor": 4
}
